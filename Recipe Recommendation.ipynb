{
 "cells": [
  {
   "cell_type": "code",
   "execution_count": null,
   "id": "bed51839",
   "metadata": {},
   "outputs": [],
   "source": [
    "import pandas as pd\n",
    "import ast\n",
    "from sklearn.feature_extraction.text import TfidfVectorizer\n",
    "from sklearn.metrics.pairwise import cosine_similarity"
   ]
  },
  {
   "cell_type": "code",
   "execution_count": null,
   "id": "ae95d66f",
   "metadata": {},
   "outputs": [],
   "source": [
    "# load recipe dataset\n",
    "df = pd.read_csv(\"src/api/dataset/recipe_dataset.csv\")"
   ]
  },
  {
   "cell_type": "code",
   "execution_count": null,
   "id": "7ae6a599",
   "metadata": {},
   "outputs": [],
   "source": [
    "df.info()"
   ]
  },
  {
   "cell_type": "code",
   "execution_count": null,
   "id": "3629c67c",
   "metadata": {},
   "outputs": [],
   "source": [
    "df.isna().sum()"
   ]
  },
  {
   "cell_type": "code",
   "execution_count": null,
   "id": "52843f7e",
   "metadata": {},
   "outputs": [],
   "source": [
    "df.head(5)"
   ]
  },
  {
   "cell_type": "code",
   "execution_count": null,
   "id": "84fb6d2d",
   "metadata": {},
   "outputs": [],
   "source": [
    "# df[\"ingredients\"] = df[\"ingredients_list\"].apply(lambda x: \" \".join(ast.literal_eval(x)))\n",
    "df[\"ingredients\"] = df[\"ingredients_list\"].apply(lambda x: sorted(eval(x)))\n",
    "df[\"ingredients\"] = df[\"ingredients\"].apply(lambda x: [*set(x)])\n",
    "df[\"ingredients\"] = df[\"ingredients\"].apply(lambda x: \" \".join(x))"
   ]
  },
  {
   "cell_type": "code",
   "execution_count": null,
   "id": "ff67d5e7",
   "metadata": {},
   "outputs": [],
   "source": [
    "df.head(5)"
   ]
  },
  {
   "cell_type": "code",
   "execution_count": null,
   "id": "b402d869",
   "metadata": {},
   "outputs": [],
   "source": [
    "df.iloc[2][2]"
   ]
  },
  {
   "cell_type": "code",
   "execution_count": null,
   "id": "bd5d8584",
   "metadata": {},
   "outputs": [],
   "source": [
    "v = TfidfVectorizer()\n",
    "v.fit(df['ingredients'])\n",
    "recipe_v = v.transform(df['ingredients'])"
   ]
  },
  {
   "cell_type": "code",
   "execution_count": null,
   "id": "c4dc0eb6",
   "metadata": {},
   "outputs": [],
   "source": [
    "ingredients = \"courgette penne egg single cream parmesan cheese back bacon courgette flower\"\n",
    "test_data = v.transform([ingredients])"
   ]
  },
  {
   "cell_type": "code",
   "execution_count": null,
   "id": "2867d74a",
   "metadata": {},
   "outputs": [],
   "source": [
    "cos_sim = map(lambda x: cosine_similarity(test_data, x), recipe_v)\n",
    "scores = list(cos_sim)"
   ]
  },
  {
   "cell_type": "code",
   "execution_count": null,
   "id": "255d5dfe",
   "metadata": {},
   "outputs": [],
   "source": [
    "scores"
   ]
  },
  {
   "cell_type": "code",
   "execution_count": null,
   "id": "d779b299",
   "metadata": {},
   "outputs": [],
   "source": [
    "def rec_recipe(scores):\n",
    "    top_five = sorted(range(len(scores)), key=lambda i: scores[i], reverse=True)[:10]\n",
    "    rec_recipe = pd.DataFrame(columns = ['recipe', 'ingredient_measurements', 'score', 'url', 'ingredients'])\n",
    "    count = 0\n",
    "    for i in top_five:\n",
    "        rec_recipe.at[count, 'recipe'] = df['recipe_name'][i]\n",
    "        \n",
    "        rec_recipe.at[count, 'ingredients'] = df['ingredients_measurements'][i]\n",
    "        \n",
    "        rec_recipe.at[count, 'url'] = df['recipe_urls'][i]\n",
    "        rec_recipe.at[count, 'score'] = \"{:.3f}\".format(float(scores[i]))\n",
    "        rec_recipe.at[count, 'ingredients'] = df['ingredients'][i]\n",
    "        \n",
    "        count += 1\n",
    "    return rec_recipe"
   ]
  },
  {
   "cell_type": "code",
   "execution_count": null,
   "id": "6de6a5e4",
   "metadata": {},
   "outputs": [],
   "source": [
    "tf = rec_recipe(scores)\n",
    "tf"
   ]
  },
  {
   "cell_type": "code",
   "execution_count": null,
   "id": "a24ef676",
   "metadata": {},
   "outputs": [],
   "source": [
    "tf_list = tf['ingredients'].to_list()\n",
    "tf_list"
   ]
  },
  {
   "cell_type": "code",
   "execution_count": null,
   "id": "7ed3e493",
   "metadata": {},
   "outputs": [],
   "source": [
    "ingre_set = set(ingredients.split(\" \"))\n",
    "rec_index = 0\n",
    "for i, ingre in enumerate(tf_list):\n",
    "    rec_set = set(ingre.split(\" \"))\n",
    "    common_ingre = ingre_set.intersection(rec_set)\n",
    "    if len(common_ingre) >= len(ingre_set):\n",
    "        rec_index = i\n",
    "        print(common_ingre)\n",
    "        break\n",
    "print(rec_index)"
   ]
  },
  {
   "cell_type": "code",
   "execution_count": null,
   "id": "47c66174",
   "metadata": {},
   "outputs": [],
   "source": [
    "ingre_set"
   ]
  },
  {
   "cell_type": "code",
   "execution_count": null,
   "id": "9c67b5d4",
   "metadata": {},
   "outputs": [],
   "source": [
    "common_ingre"
   ]
  },
  {
   "cell_type": "code",
   "execution_count": null,
   "id": "b4426105",
   "metadata": {},
   "outputs": [],
   "source": [
    "tf.iloc[rec_index].to_dict()"
   ]
  },
  {
   "cell_type": "code",
   "execution_count": null,
   "id": "1f250d06",
   "metadata": {},
   "outputs": [],
   "source": []
  }
 ],
 "metadata": {
  "kernelspec": {
   "display_name": "Python 3 (ipykernel)",
   "language": "python",
   "name": "python3"
  },
  "language_info": {
   "codemirror_mode": {
    "name": "ipython",
    "version": 3
   },
   "file_extension": ".py",
   "mimetype": "text/x-python",
   "name": "python",
   "nbconvert_exporter": "python",
   "pygments_lexer": "ipython3",
   "version": "3.9.7"
  }
 },
 "nbformat": 4,
 "nbformat_minor": 5
}
